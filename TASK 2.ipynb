{
 "cells": [
  {
   "cell_type": "code",
   "execution_count": 1,
   "metadata": {},
   "outputs": [
    {
     "name": "stdout",
     "output_type": "stream",
     "text": [
      "1,8,4,6,9,5,2,045,645,546\n",
      "['1', '8', '4', '6', '9', '5', '2', '045', '645', '546']\n"
     ]
    }
   ],
   "source": [
    "#CREATING A LIST OF INPUT VALUE\n",
    "numbers=input()\n",
    "item=numbers.split(',')\n",
    "_list=list(item)\n",
    "print(_list)\n"
   ]
  },
  {
   "cell_type": "code",
   "execution_count": 2,
   "metadata": {},
   "outputs": [
    {
     "name": "stdout",
     "output_type": "stream",
     "text": [
      "*\n",
      "**\n",
      "***\n",
      "****\n",
      "*****\n",
      "****\n",
      "***\n",
      "**\n",
      "*\n"
     ]
    }
   ],
   "source": [
    "#creating a Pattern\n",
    "for i in list(range(1,6)):\n",
    "    print(i*'*')\n",
    "for i in list(range(4,0,-1)):\n",
    "    print(i*'*')"
   ]
  },
  {
   "cell_type": "code",
   "execution_count": 3,
   "metadata": {},
   "outputs": [
    {
     "name": "stdout",
     "output_type": "stream",
     "text": [
      "reversing order\n",
      "redro gnisrever\n"
     ]
    }
   ],
   "source": [
    "#Reversing a word\n",
    "word=input()\n",
    "Rword=word[::-1]\n",
    "print(Rword)"
   ]
  },
  {
   "cell_type": "code",
   "execution_count": 4,
   "metadata": {},
   "outputs": [
    {
     "name": "stdout",
     "output_type": "stream",
     "text": [
      "\n",
      "WE, THE PEOPLE OF INDIA,\n",
      "    having solemnly resolved to constitute India into a SOVEREIGN, !\n",
      "        SOCIALIST, SECULAR, DEMOCRATIC REPUBLIC\n",
      "         and to secure to all its citizens\n",
      "\n"
     ]
    }
   ],
   "source": [
    "msg='''\n",
    "WE, THE PEOPLE OF INDIA,\n",
    "    having solemnly resolved to constitute India into a SOVEREIGN, !\n",
    "        SOCIALIST, SECULAR, DEMOCRATIC REPUBLIC\n",
    "         and to secure to all its citizens\n",
    "'''\n",
    "print(msg)"
   ]
  },
  {
   "cell_type": "code",
   "execution_count": null,
   "metadata": {},
   "outputs": [],
   "source": []
  }
 ],
 "metadata": {
  "kernelspec": {
   "display_name": "Python 3",
   "language": "python",
   "name": "python3"
  },
  "language_info": {
   "codemirror_mode": {
    "name": "ipython",
    "version": 3
   },
   "file_extension": ".py",
   "mimetype": "text/x-python",
   "name": "python",
   "nbconvert_exporter": "python",
   "pygments_lexer": "ipython3",
   "version": "3.7.6"
  }
 },
 "nbformat": 4,
 "nbformat_minor": 4
}
